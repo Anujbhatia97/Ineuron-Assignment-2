{
 "cells": [
  {
   "cell_type": "code",
   "execution_count": null,
   "id": "34bb33ae",
   "metadata": {},
   "outputs": [],
   "source": [
    "#Q1.What are the two values of the Boolean data type? How do you write them?\n",
    "Python boolean type is one of the built-in data types provided by Python, which represents one of the two values i.e. True or False. \n",
    "Generally, it is used to represent the truth values of the expressions. For example, 1== 0 is True whereas 2<1 is False"
   ]
  },
  {
   "cell_type": "code",
   "execution_count": 14,
   "id": "5a0f7a5e",
   "metadata": {},
   "outputs": [
    {
     "data": {
      "text/plain": [
       "(1, 0, 2, 0, 1, 0, 0)"
      ]
     },
     "execution_count": 14,
     "metadata": {},
     "output_type": "execute_result"
    }
   ],
   "source": [
    "#in continuation of above\n",
    "True + False , False + False , True + True , False + False , True - False , False - False , True - True"
   ]
  },
  {
   "cell_type": "code",
   "execution_count": null,
   "id": "675b5dc3",
   "metadata": {},
   "outputs": [],
   "source": [
    "#Q2.What are the three different types of Boolean operators?\n",
    "\n",
    "Boolean operators are the words \"AND\", \"OR\" and \"NOT\". "
   ]
  },
  {
   "cell_type": "code",
   "execution_count": 17,
   "id": "8c20bb96",
   "metadata": {},
   "outputs": [
    {
     "data": {
      "text/plain": [
       "True"
      ]
     },
     "execution_count": 17,
     "metadata": {},
     "output_type": "execute_result"
    }
   ],
   "source": [
    "#4.What are the values of the following expressions?\n",
    "(5 > 4) and (3 == 5)\n",
    "not (5 > 4)\n",
    "(5 > 4) or (3 == 5)\n",
    "not ((5 > 4) or (3 == 5))\n",
    "(True and True) and (True == False)\n",
    "(not False) or (not True)"
   ]
  },
  {
   "cell_type": "code",
   "execution_count": null,
   "id": "68f3727c",
   "metadata": {},
   "outputs": [],
   "source": [
    "#Q5. What are the six comparison operators?\n",
    " A comparison operator compares two values and returns a boolean value, either True or False . Python has six comparison operators: less than ( < ), less than or equal to ( <= ), greater than ( > ), greater than or equal to ( >= ), equal to ( == ), and not equal to ( != )."
   ]
  },
  {
   "cell_type": "code",
   "execution_count": null,
   "id": "a7cbe862",
   "metadata": {},
   "outputs": [],
   "source": [
    "#Q6.6. How do you tell the difference between the equal to and assignment operators?Describe a condition and when you would use one.\n",
    "The '=' is the so-called assignment operator and is used to assign the result of the expression on the right side of the operator to the variable on the left side. The '==' is the so-called equality comparison operator and is used to check whether the two expressions on both sides are equal or not."
   ]
  },
  {
   "cell_type": "code",
   "execution_count": 33,
   "id": "4fa3af88",
   "metadata": {},
   "outputs": [
    {
     "name": "stdout",
     "output_type": "stream",
     "text": [
      "ham\n",
      "spam\n",
      "spam\n"
     ]
    }
   ],
   "source": [
    "#Q7. Identify the three blocks in this code:\n",
    "spam = 0\n",
    "if spam == 10:\n",
    "    print('eggs')\n",
    "if spam > 5:\n",
    "    print('bacon')\n",
    "else:\n",
    "    print('ham')\n",
    "    print('spam')\n",
    "    print('spam')"
   ]
  },
  {
   "cell_type": "code",
   "execution_count": 40,
   "id": "291ea809",
   "metadata": {},
   "outputs": [
    {
     "name": "stdout",
     "output_type": "stream",
     "text": [
      "Greetings\n"
     ]
    }
   ],
   "source": [
    "#Q8Write code that prints Hello if 1 is stored in spam, \n",
    "#prints Howdy if 2 is stored in spam,\n",
    "#and prints Greetings! if anything else is stored in spam.\n",
    "spam = 0\n",
    "if spam == 1:\n",
    "    print('Hello')\n",
    "if spam == 2:\n",
    "    print(\"Howdy\")\n",
    "else:\n",
    "    print(\"Greetings\")"
   ]
  },
  {
   "cell_type": "code",
   "execution_count": null,
   "id": "fc1c1793",
   "metadata": {},
   "outputs": [],
   "source": [
    "#Q9.If your programme is stuck in an endless loop, what keys you’ll press?\n",
    "\n",
    "i will interrput the funnel (Esc I,I)"
   ]
  },
  {
   "cell_type": "code",
   "execution_count": 43,
   "id": "fed0fce9",
   "metadata": {},
   "outputs": [
    {
     "data": {
      "text/plain": [
       "range(0, 10)"
      ]
     },
     "execution_count": 43,
     "metadata": {},
     "output_type": "execute_result"
    }
   ],
   "source": [
    "#Q11. In a for loop, what is the difference between range(10), range(0, 10), and range(0, 10, 1)?\n",
    "range(10) it's gonna count from 0 till 10"
   ]
  },
  {
   "cell_type": "code",
   "execution_count": 44,
   "id": "52a1a044",
   "metadata": {},
   "outputs": [
    {
     "data": {
      "text/plain": [
       "range(0, 10)"
      ]
     },
     "execution_count": 44,
     "metadata": {},
     "output_type": "execute_result"
    }
   ],
   "source": [
    "range(0, 10) it's gonna count from 0 till 10"
   ]
  },
  {
   "cell_type": "code",
   "execution_count": 45,
   "id": "f5a7dc0c",
   "metadata": {},
   "outputs": [
    {
     "data": {
      "text/plain": [
       "range(0, 10)"
      ]
     },
     "execution_count": 45,
     "metadata": {},
     "output_type": "execute_result"
    }
   ],
   "source": [
    "range(0, 10, 1) it's gonna count from 0 till ten adding 1 ."
   ]
  },
  {
   "cell_type": "markdown",
   "id": "b98c70e7",
   "metadata": {},
   "source": [
    "# Q12. Write a short program that prints the numbers 1 to 10 using a for loop. Then write an equivalent program that prints the numbers 1 to 10 using a while loop."
   ]
  },
  {
   "cell_type": "code",
   "execution_count": 67,
   "id": "fdbb3bca",
   "metadata": {},
   "outputs": [
    {
     "name": "stdout",
     "output_type": "stream",
     "text": [
      "1\n",
      "2\n",
      "3\n",
      "4\n",
      "5\n",
      "6\n",
      "7\n",
      "8\n",
      "9\n",
      "10\n"
     ]
    }
   ],
   "source": [
    "for i in range(1,11,1):\n",
    "    print(i)"
   ]
  },
  {
   "cell_type": "code",
   "execution_count": 61,
   "id": "41580934",
   "metadata": {},
   "outputs": [
    {
     "name": "stdout",
     "output_type": "stream",
     "text": [
      "1\n",
      "2\n",
      "3\n",
      "4\n",
      "5\n",
      "6\n",
      "7\n",
      "8\n",
      "9\n",
      "10\n"
     ]
    }
   ],
   "source": [
    "i = 1\n",
    "while i < 11:\n",
    "    print(i)\n",
    "    i = i + 1"
   ]
  }
 ],
 "metadata": {
  "kernelspec": {
   "display_name": "Python 3 (ipykernel)",
   "language": "python",
   "name": "python3"
  },
  "language_info": {
   "codemirror_mode": {
    "name": "ipython",
    "version": 3
   },
   "file_extension": ".py",
   "mimetype": "text/x-python",
   "name": "python",
   "nbconvert_exporter": "python",
   "pygments_lexer": "ipython3",
   "version": "3.9.7"
  }
 },
 "nbformat": 4,
 "nbformat_minor": 5
}
